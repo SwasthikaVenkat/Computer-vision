{
 "cells": [
  {
   "cell_type": "code",
   "execution_count": null,
   "id": "ce6603fb",
   "metadata": {},
   "outputs": [],
   "source": [
    "import h5py    \n",
    "hf = h5py.File('SVHN_single_grey1.h5')\n",
    "hf.keys()\n",
    "x_test=np.array(hf['X_test'])\n",
    "x_train=np.array(hf['X_train'])\n",
    "y_test=np.array(hf['y_test'])\n",
    "y_train=np.array(hf['y_train'])"
   ]
  },
  {
   "cell_type": "code",
   "execution_count": null,
   "id": "11143b57",
   "metadata": {},
   "outputs": [],
   "source": []
  },
  {
   "cell_type": "code",
   "execution_count": null,
   "id": "866052a0",
   "metadata": {},
   "outputs": [],
   "source": []
  },
  {
   "cell_type": "code",
   "execution_count": null,
   "id": "f8af293f",
   "metadata": {},
   "outputs": [],
   "source": []
  },
  {
   "cell_type": "code",
   "execution_count": null,
   "id": "19d11bda",
   "metadata": {},
   "outputs": [],
   "source": []
  },
  {
   "cell_type": "code",
   "execution_count": null,
   "id": "b466303e",
   "metadata": {},
   "outputs": [],
   "source": []
  },
  {
   "cell_type": "code",
   "execution_count": null,
   "id": "77b746ff",
   "metadata": {},
   "outputs": [],
   "source": []
  },
  {
   "cell_type": "code",
   "execution_count": null,
   "id": "dc54f531",
   "metadata": {},
   "outputs": [],
   "source": []
  }
 ],
 "metadata": {
  "kernelspec": {
   "display_name": "Python 3",
   "language": "python",
   "name": "python3"
  },
  "language_info": {
   "codemirror_mode": {
    "name": "ipython",
    "version": 3
   },
   "file_extension": ".py",
   "mimetype": "text/x-python",
   "name": "python",
   "nbconvert_exporter": "python",
   "pygments_lexer": "ipython3",
   "version": "3.8.8"
  }
 },
 "nbformat": 4,
 "nbformat_minor": 5
}
